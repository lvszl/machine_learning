{
 "cells": [
  {
   "cell_type": "code",
   "execution_count": 2,
   "metadata": {},
   "outputs": [],
   "source": [
    "import torch\n",
    "import torch.nn as nn\n",
    "import torch.optim as optim\n",
    "import numpy as np\n",
    "import matplotlib.pyplot as plt\n"
   ]
  },
  {
   "cell_type": "code",
   "execution_count": 3,
   "metadata": {},
   "outputs": [
    {
     "name": "stdout",
     "output_type": "stream",
     "text": [
      "torch.Size([80, 2])\n",
      "torch.Size([80, 1])\n"
     ]
    }
   ],
   "source": [
    "# 加载数据\n",
    "x = torch.tensor(np.loadtxt('ex4x.dat'), dtype=torch.float32)\n",
    "y = torch.tensor(np.loadtxt('ex4y.dat'), dtype=torch.float32)\n",
    "y = y.reshape(-1 ,1)   # 1 接受；0 拒绝\n",
    "print(x.shape)\n",
    "print(y.shape)\n",
    "# print(x)"
   ]
  },
  {
   "cell_type": "code",
   "execution_count": 4,
   "metadata": {},
   "outputs": [
    {
     "name": "stdout",
     "output_type": "stream",
     "text": [
      "80\n",
      "torch.Size([80, 3])\n"
     ]
    }
   ],
   "source": [
    "# 添加截距项\n",
    "# 为x新添加一列，放在最后\n",
    "m = x.size(0)\n",
    "print(m)\n",
    "new_colunm = torch.ones(m).reshape(-1, 1)\n",
    "x = torch.cat((x, new_colunm), dim = 1)\n",
    "print(x.shape)"
   ]
  },
  {
   "cell_type": "code",
   "execution_count": 5,
   "metadata": {},
   "outputs": [
    {
     "data": {
      "image/png": "[encoded data removed]",
      "text/plain": [
       "<Figure size 640x480 with 1 Axes>"
      ]
     },
     "metadata": {},
     "output_type": "display_data"
    }
   ],
   "source": [
    "# plot the data\n",
    "\n",
    "pos = torch.where(y == 1)[0]\n",
    "neg = torch.where(y == 0)[0]\n",
    "# print(torch.where(y == 1))\n",
    "\n",
    "# 假设特征数据位于 x 张量的第0列和第1列\n",
    "# 绘制正例（y == 1）数据点为 '+'，负例（y == 0）数据点为 'o'\n",
    "plt.plot(x[pos, 0], x[pos, 1], '+', label='Admitted')\n",
    "plt.plot(x[neg, 0], x[neg, 1], 'o', label='Not Admitted')\n",
    "\n",
    "plt.legend()\n",
    "# 显示图形\n",
    "plt.show()"
   ]
  },
  {
   "cell_type": "markdown",
   "metadata": {},
   "source": [
    "注意上面代码中torch.where(y==1)[0]中的where函数的用法：\n",
    "torch.where函数会返回一个包含满足条件的元素的索引的元组。元组的第一个元素包含行索引，第二个元素包含列索引。在这里，我们只关心行索引，因为我们想获取y中值为1的元素的行索引，以找到正例样本的位置。\n",
    "\n",
    "索引通常是一维数组（或张量），因此我们使用[0]来获取第一个元素，即行索引的数组。这个操作将我们从包含一个元素的元组中解包，得到了一个包含满足条件的元素的行索引的一维数组。"
   ]
  },
  {
   "cell_type": "code",
   "execution_count": 6,
   "metadata": {},
   "outputs": [
    {
     "name": "stdout",
     "output_type": "stream",
     "text": [
      "tensor([[0.],\n",
      "        [0.],\n",
      "        [0.]])\n"
     ]
    }
   ],
   "source": [
    "# 定义参数\n",
    "w = torch.zeros(3, 1)\n",
    "# print(w)"
   ]
  },
  {
   "cell_type": "code",
   "execution_count": 7,
   "metadata": {},
   "outputs": [],
   "source": [
    "# 定义激活函数\n",
    "def h(x, w):\n",
    "    return 1 / (1 + np.exp(-torch.matmul(x,w)))"
   ]
  },
  {
   "cell_type": "code",
   "execution_count": 8,
   "metadata": {},
   "outputs": [],
   "source": [
    "# 定义损失函数\n",
    "def J(x, y, w):\n",
    "    t1 = torch.matmul(y.T, torch.log(h(x, w)))\n",
    "    t2 = torch.matmul((1 - y.T), torch.log(1-(h(x,w))))\n",
    "    return (t1 - t2) / m  # 1 * 1"
   ]
  },
  {
   "cell_type": "code",
   "execution_count": 9,
   "metadata": {},
   "outputs": [],
   "source": [
    "# 雅可比矩阵——损失函数的一阶导数\n",
    "def J1(x, y, w):\n",
    "    t1 = h(x, w)\n",
    "    return torch.matmul(x.T, (t1 - y)) / m  # 1 * 1"
   ]
  },
  {
   "cell_type": "code",
   "execution_count": 16,
   "metadata": {},
   "outputs": [],
   "source": [
    "# 海森矩阵，求损失函数的二阶导\n",
    "def J2(x, y, w):\n",
    "    t = h(x,w).view(-1)\n",
    "    diag1 = torch.diag(t)\n",
    "    diag2 = torch.diag(1-t)\n",
    "    return torch.matmul(torch.matmul(torch.matmul(x.T,diag1),diag2),x) / m  # d * d"
   ]
  },
  {
   "cell_type": "code",
   "execution_count": 17,
   "metadata": {},
   "outputs": [],
   "source": [
    "def GD(x, y, w):\n",
    "    w = w - torch.matmul(torch.inverse(J2(x, y, w)), J1(x, y, w))"
   ]
  },
  {
   "cell_type": "code",
   "execution_count": 18,
   "metadata": {},
   "outputs": [
    {
     "name": "stdout",
     "output_type": "stream",
     "text": [
      "tensor([[0.]])\n",
      "tensor([[0.]])\n",
      "tensor([[0.]])\n",
      "tensor([[0.]])\n",
      "tensor([[0.]])\n",
      "tensor([[0.]])\n",
      "tensor([[0.]])\n",
      "tensor([[0.]])\n",
      "tensor([[0.]])\n",
      "tensor([[0.]])\n",
      "tensor([[0.]])\n",
      "tensor([[0.]])\n",
      "tensor([[0.]])\n",
      "tensor([[0.]])\n",
      "tensor([[0.]])\n"
     ]
    },
    {
     "ename": "TypeError",
     "evalue": "float() argument must be a string or a number, not 'builtin_function_or_method'",
     "output_type": "error",
     "traceback": [
      "\u001b[1;31m---------------------------------------------------------------------------\u001b[0m",
      "\u001b[1;31mTypeError\u001b[0m                                 Traceback (most recent call last)",
      "\u001b[1;32md:\\files\\School\\JuniorYear1\\MLlab\\exp4\\exp4.ipynb 单元格 12\u001b[0m line \u001b[0;36m1\n\u001b[0;32m     <a href='vscode-notebook-cell:/d%3A/files/School/JuniorYear1/MLlab/exp4/exp4.ipynb#X25sZmlsZQ%3D%3D?line=12'>13</a>\u001b[0m     GD(x, y, w)\n\u001b[0;32m     <a href='vscode-notebook-cell:/d%3A/files/School/JuniorYear1/MLlab/exp4/exp4.ipynb#X25sZmlsZQ%3D%3D?line=13'>14</a>\u001b[0m     ww\u001b[39m.\u001b[39mappend(w)\n\u001b[1;32m---> <a href='vscode-notebook-cell:/d%3A/files/School/JuniorYear1/MLlab/exp4/exp4.ipynb#X25sZmlsZQ%3D%3D?line=15'>16</a>\u001b[0m plt\u001b[39m.\u001b[39;49mplot(xx, yy)\n\u001b[0;32m     <a href='vscode-notebook-cell:/d%3A/files/School/JuniorYear1/MLlab/exp4/exp4.ipynb#X25sZmlsZQ%3D%3D?line=16'>17</a>\u001b[0m plt\u001b[39m.\u001b[39mshow()\n",
      "File \u001b[1;32md:\\programfiles\\Anaconda\\anaconda\\lib\\site-packages\\matplotlib\\pyplot.py:2812\u001b[0m, in \u001b[0;36mplot\u001b[1;34m(scalex, scaley, data, *args, **kwargs)\u001b[0m\n\u001b[0;32m   2810\u001b[0m \u001b[39m@_copy_docstring_and_deprecators\u001b[39m(Axes\u001b[39m.\u001b[39mplot)\n\u001b[0;32m   2811\u001b[0m \u001b[39mdef\u001b[39;00m \u001b[39mplot\u001b[39m(\u001b[39m*\u001b[39margs, scalex\u001b[39m=\u001b[39m\u001b[39mTrue\u001b[39;00m, scaley\u001b[39m=\u001b[39m\u001b[39mTrue\u001b[39;00m, data\u001b[39m=\u001b[39m\u001b[39mNone\u001b[39;00m, \u001b[39m*\u001b[39m\u001b[39m*\u001b[39mkwargs):\n\u001b[1;32m-> 2812\u001b[0m     \u001b[39mreturn\u001b[39;00m gca()\u001b[39m.\u001b[39mplot(\n\u001b[0;32m   2813\u001b[0m         \u001b[39m*\u001b[39margs, scalex\u001b[39m=\u001b[39mscalex, scaley\u001b[39m=\u001b[39mscaley,\n\u001b[0;32m   2814\u001b[0m         \u001b[39m*\u001b[39m\u001b[39m*\u001b[39m({\u001b[39m\"\u001b[39m\u001b[39mdata\u001b[39m\u001b[39m\"\u001b[39m: data} \u001b[39mif\u001b[39;00m data \u001b[39mis\u001b[39;00m \u001b[39mnot\u001b[39;00m \u001b[39mNone\u001b[39;00m \u001b[39melse\u001b[39;00m {}), \u001b[39m*\u001b[39m\u001b[39m*\u001b[39mkwargs)\n",
      "File \u001b[1;32md:\\programfiles\\Anaconda\\anaconda\\lib\\site-packages\\matplotlib\\axes\\_axes.py:1690\u001b[0m, in \u001b[0;36mAxes.plot\u001b[1;34m(self, scalex, scaley, data, *args, **kwargs)\u001b[0m\n\u001b[0;32m   1688\u001b[0m lines \u001b[39m=\u001b[39m [\u001b[39m*\u001b[39m\u001b[39mself\u001b[39m\u001b[39m.\u001b[39m_get_lines(\u001b[39m*\u001b[39margs, data\u001b[39m=\u001b[39mdata, \u001b[39m*\u001b[39m\u001b[39m*\u001b[39mkwargs)]\n\u001b[0;32m   1689\u001b[0m \u001b[39mfor\u001b[39;00m line \u001b[39min\u001b[39;00m lines:\n\u001b[1;32m-> 1690\u001b[0m     \u001b[39mself\u001b[39;49m\u001b[39m.\u001b[39;49madd_line(line)\n\u001b[0;32m   1691\u001b[0m \u001b[39mif\u001b[39;00m scalex:\n\u001b[0;32m   1692\u001b[0m     \u001b[39mself\u001b[39m\u001b[39m.\u001b[39m_request_autoscale_view(\u001b[39m\"\u001b[39m\u001b[39mx\u001b[39m\u001b[39m\"\u001b[39m)\n",
      "File \u001b[1;32md:\\programfiles\\Anaconda\\anaconda\\lib\\site-packages\\matplotlib\\axes\\_base.py:2304\u001b[0m, in \u001b[0;36m_AxesBase.add_line\u001b[1;34m(self, line)\u001b[0m\n\u001b[0;32m   2301\u001b[0m \u001b[39mif\u001b[39;00m line\u001b[39m.\u001b[39mget_clip_path() \u001b[39mis\u001b[39;00m \u001b[39mNone\u001b[39;00m:\n\u001b[0;32m   2302\u001b[0m     line\u001b[39m.\u001b[39mset_clip_path(\u001b[39mself\u001b[39m\u001b[39m.\u001b[39mpatch)\n\u001b[1;32m-> 2304\u001b[0m \u001b[39mself\u001b[39;49m\u001b[39m.\u001b[39;49m_update_line_limits(line)\n\u001b[0;32m   2305\u001b[0m \u001b[39mif\u001b[39;00m \u001b[39mnot\u001b[39;00m line\u001b[39m.\u001b[39mget_label():\n\u001b[0;32m   2306\u001b[0m     line\u001b[39m.\u001b[39mset_label(\u001b[39mf\u001b[39m\u001b[39m'\u001b[39m\u001b[39m_child\u001b[39m\u001b[39m{\u001b[39;00m\u001b[39mlen\u001b[39m(\u001b[39mself\u001b[39m\u001b[39m.\u001b[39m_children)\u001b[39m}\u001b[39;00m\u001b[39m'\u001b[39m)\n",
      "File \u001b[1;32md:\\programfiles\\Anaconda\\anaconda\\lib\\site-packages\\matplotlib\\axes\\_base.py:2327\u001b[0m, in \u001b[0;36m_AxesBase._update_line_limits\u001b[1;34m(self, line)\u001b[0m\n\u001b[0;32m   2323\u001b[0m \u001b[39mdef\u001b[39;00m \u001b[39m_update_line_limits\u001b[39m(\u001b[39mself\u001b[39m, line):\n\u001b[0;32m   2324\u001b[0m \u001b[39m    \u001b[39m\u001b[39m\"\"\"\u001b[39;00m\n\u001b[0;32m   2325\u001b[0m \u001b[39m    Figures out the data limit of the given line, updating self.dataLim.\u001b[39;00m\n\u001b[0;32m   2326\u001b[0m \u001b[39m    \"\"\"\u001b[39;00m\n\u001b[1;32m-> 2327\u001b[0m     path \u001b[39m=\u001b[39m line\u001b[39m.\u001b[39;49mget_path()\n\u001b[0;32m   2328\u001b[0m     \u001b[39mif\u001b[39;00m path\u001b[39m.\u001b[39mvertices\u001b[39m.\u001b[39msize \u001b[39m==\u001b[39m \u001b[39m0\u001b[39m:\n\u001b[0;32m   2329\u001b[0m         \u001b[39mreturn\u001b[39;00m\n",
      "File \u001b[1;32md:\\programfiles\\Anaconda\\anaconda\\lib\\site-packages\\matplotlib\\lines.py:1029\u001b[0m, in \u001b[0;36mLine2D.get_path\u001b[1;34m(self)\u001b[0m\n\u001b[0;32m   1027\u001b[0m \u001b[39m\u001b[39m\u001b[39m\"\"\"Return the `~matplotlib.path.Path` associated with this line.\"\"\"\u001b[39;00m\n\u001b[0;32m   1028\u001b[0m \u001b[39mif\u001b[39;00m \u001b[39mself\u001b[39m\u001b[39m.\u001b[39m_invalidy \u001b[39mor\u001b[39;00m \u001b[39mself\u001b[39m\u001b[39m.\u001b[39m_invalidx:\n\u001b[1;32m-> 1029\u001b[0m     \u001b[39mself\u001b[39;49m\u001b[39m.\u001b[39;49mrecache()\n\u001b[0;32m   1030\u001b[0m \u001b[39mreturn\u001b[39;00m \u001b[39mself\u001b[39m\u001b[39m.\u001b[39m_path\n",
      "File \u001b[1;32md:\\programfiles\\Anaconda\\anaconda\\lib\\site-packages\\matplotlib\\lines.py:662\u001b[0m, in \u001b[0;36mLine2D.recache\u001b[1;34m(self, always)\u001b[0m\n\u001b[0;32m    660\u001b[0m \u001b[39mif\u001b[39;00m always \u001b[39mor\u001b[39;00m \u001b[39mself\u001b[39m\u001b[39m.\u001b[39m_invalidy:\n\u001b[0;32m    661\u001b[0m     yconv \u001b[39m=\u001b[39m \u001b[39mself\u001b[39m\u001b[39m.\u001b[39mconvert_yunits(\u001b[39mself\u001b[39m\u001b[39m.\u001b[39m_yorig)\n\u001b[1;32m--> 662\u001b[0m     y \u001b[39m=\u001b[39m _to_unmasked_float_array(yconv)\u001b[39m.\u001b[39mravel()\n\u001b[0;32m    663\u001b[0m \u001b[39melse\u001b[39;00m:\n\u001b[0;32m    664\u001b[0m     y \u001b[39m=\u001b[39m \u001b[39mself\u001b[39m\u001b[39m.\u001b[39m_y\n",
      "File \u001b[1;32md:\\programfiles\\Anaconda\\anaconda\\lib\\site-packages\\matplotlib\\cbook\\__init__.py:1335\u001b[0m, in \u001b[0;36m_to_unmasked_float_array\u001b[1;34m(x)\u001b[0m\n\u001b[0;32m   1333\u001b[0m     \u001b[39mreturn\u001b[39;00m np\u001b[39m.\u001b[39mma\u001b[39m.\u001b[39masarray(x, \u001b[39mfloat\u001b[39m)\u001b[39m.\u001b[39mfilled(np\u001b[39m.\u001b[39mnan)\n\u001b[0;32m   1334\u001b[0m \u001b[39melse\u001b[39;00m:\n\u001b[1;32m-> 1335\u001b[0m     \u001b[39mreturn\u001b[39;00m np\u001b[39m.\u001b[39;49masarray(x, \u001b[39mfloat\u001b[39;49m)\n",
      "\u001b[1;31mTypeError\u001b[0m: float() argument must be a string or a number, not 'builtin_function_or_method'"
     ]
    },
    {
     "data": {
      "image/png": "[encoded data removed]",
      "text/plain": [
       "<Figure size 640x480 with 1 Axes>"
      ]
     },
     "metadata": {},
     "output_type": "display_data"
    }
   ],
   "source": [
    "# 训练\n",
    "epoch_num = 15\n",
    "\n",
    "xx = [i for i in range(1, epoch_num+1)]\n",
    "yy = []\n",
    "ww = []\n",
    "ww.append(w)\n",
    "\n",
    "for epoch in range(epoch_num):\n",
    "    loss = J(x, y, w)\n",
    "    yy.append(loss.tolist)\n",
    "    print(loss)\n",
    "    GD(x, y, w)\n",
    "    ww.append(w)\n",
    "\n",
    "plt.plot(xx, yy)\n",
    "plt.show()\n"
   ]
  },
  {
   "cell_type": "code",
   "execution_count": null,
   "metadata": {},
   "outputs": [],
   "source": []
  },
  {
   "cell_type": "code",
   "execution_count": null,
   "metadata": {},
   "outputs": [],
   "source": []
  },
  {
   "cell_type": "code",
   "execution_count": 93,
   "metadata": {},
   "outputs": [],
   "source": [
    "# 定义sigmoid函数\n",
    "def sigmoid(x):\n",
    "    return (1. / (1. + torch.exp(-x)))"
   ]
  },
  {
   "cell_type": "code",
   "execution_count": 94,
   "metadata": {},
   "outputs": [],
   "source": [
    "# 定义损失函数loss（cost）\n",
    "def J(x, y, w, h=sigmoid):\n",
    "    for i in range(m):\n",
    "        sum = 0.\n",
    "        t1 = -y[i]*torch.log(h(torch.matmul(x, w)[i]))\n",
    "        t2 = (1 - y[i]) * torch.log(1 - h(torch.matmul(x, w)[i]))\n",
    "        sum += (t1 - t2)\n",
    "    sum = sum / m\n",
    "    return sum\n",
    "    # return (torch.matmul(-y.T, torch.log(z(x))) - torch.matmul((1 - y).T, torch.log(1 - z(x)))) / m"
   ]
  },
  {
   "cell_type": "code",
   "execution_count": 95,
   "metadata": {},
   "outputs": [],
   "source": [
    "def J_derivative(x, y, w, z=sigmoid):\n",
    "    # print(x.shape)\n",
    "    # print((z(x) - y).shape)\n",
    "    return torch.matmul(x.T, (z(torch.matmul(x, w)) - y))/ m"
   ]
  },
  {
   "cell_type": "code",
   "execution_count": 96,
   "metadata": {},
   "outputs": [],
   "source": [
    "def J_derivative_double(x, y, w, g=sigmoid):  # 海森矩阵二阶导\n",
    "    \"\"\"z: 通过x计算y的函数\"\"\"\n",
    "    # 计算 g(x*theta)\n",
    "    gx_theta = g(torch.matmul(x, w))  # m * 1\n",
    "    \n",
    "    # print(gx_theta)\n",
    "    diag_ = gx_theta * (-gx_theta)  # m * 1\n",
    "    # print(diag_)\n",
    "    diag_one = diag_.view(-1)  # m\n",
    "    # print(diag_one)\n",
    "    # 计算对角矩阵 diag(g(x*theta))\n",
    "    R = torch.diag(diag_one)\n",
    "    # print(R.shape)  # m * m\n",
    "    # print(diag_gx_theta)\n",
    "    # 计算对角矩阵 diag(1 - g(x*theta))\n",
    "    # diag_one_minus_gx_theta = torch.diag(one_minus_gx_theta)\n",
    "    # print(diag_gx_theta.shape)\n",
    "    # print(diag_gx_theta)\n",
    "    # print(diag_one_minus_gx_theta.shape)\n",
    "    # 计算海森矩阵 H\n",
    "    # H = (1/m) * torch.matmul(torch.matmul(torch.matmul(x.T, diag_gx_theta), diag_one_minus_gx_theta), x)\n",
    "    # return \n",
    "    # 计算海森矩阵\n",
    "    H = (1/m) * torch.matmul(torch.matmul(x.T, R), x)\n",
    "    # print(H.shape)  # 3 * 3\n",
    "    return H"
   ]
  },
  {
   "cell_type": "code",
   "execution_count": 97,
   "metadata": {},
   "outputs": [],
   "source": [
    "def GD(x, y, w, H=J_derivative_double):\n",
    "    \n",
    "    return w - torch.matmul(torch.inverse(H(x, y, w)), J_derivative(x, y, w))"
   ]
  },
  {
   "cell_type": "code",
   "execution_count": 98,
   "metadata": {},
   "outputs": [],
   "source": [
    "# train\n",
    "num_epochs = 15\n",
    "\n",
    "\n",
    "\n",
    "def train():\n",
    "    xx = [i for i in range(1, num_epochs + 1)]\n",
    "    # print(xx)\n",
    "    yy = []\n",
    "    w = torch.zeros(3, 1, requires_grad=True)\n",
    "    for epoch in range(num_epochs):\n",
    "        loss = J(x, y, w)\n",
    "        # print(loss)\n",
    "        loss = loss.sum().tolist()\n",
    "        \n",
    "        print(loss)\n",
    "        # print(loss.shape)\n",
    "        yy.append(loss)\n",
    "        print(f\"w{epoch+1}:{w}\")\n",
    "        w = GD(x, y, w)\n",
    "    plt.plot(xx, yy)\n",
    "    plt.ylabel(\"loss\")\n",
    "    plt.xlabel(\"epoch\")\n",
    "    plt.show()\n",
    "    print(xx)\n",
    "    print(yy)\n"
   ]
  },
  {
   "cell_type": "code",
   "execution_count": 99,
   "metadata": {},
   "outputs": [
    {
     "name": "stdout",
     "output_type": "stream",
     "text": [
      "0.008664339780807495\n",
      "w1:tensor([[0.],\n",
      "        [0.],\n",
      "        [0.]], requires_grad=True)\n",
      "0.010731915943324566\n",
      "w2:tensor([[-0.0832],\n",
      "        [-0.0880],\n",
      "        [ 9.0803]], grad_fn=<SubBackward0>)\n",
      "0.0025097269099205732\n",
      "w3:tensor([[-0.2703],\n",
      "        [-0.2896],\n",
      "        [27.2437]], grad_fn=<SubBackward0>)\n",
      "0.0\n",
      "w4:tensor([[ -1.3170],\n",
      "        [ -1.2656],\n",
      "        [111.6555]], grad_fn=<SubBackward0>)\n",
      "nan\n",
      "w5:tensor([[ -6.5683],\n",
      "        [ -4.0555],\n",
      "        [392.2171]], grad_fn=<SubBackward0>)\n",
      "nan\n",
      "w6:tensor([[-244.7124],\n",
      "        [ -36.4479],\n",
      "        [7004.2275]], grad_fn=<SubBackward0>)\n",
      "nan\n",
      "w7:tensor([[-1022.5215],\n",
      "        [ -162.7464],\n",
      "        [29125.4805]], grad_fn=<SubBackward0>)\n",
      "nan\n",
      "w8:tensor([[-19549.6445],\n",
      "        [ -3503.0574],\n",
      "        [569551.7500]], grad_fn=<SubBackward0>)\n",
      "nan\n",
      "w9:tensor([[-8.0976e+06],\n",
      "        [-1.4602e+06],\n",
      "        [ 2.3543e+08]], grad_fn=<SubBackward0>)\n",
      "nan\n",
      "w10:tensor([[-1.6176e+07],\n",
      "        [-2.9169e+06],\n",
      "        [ 4.7029e+08]], grad_fn=<SubBackward0>)\n",
      "nan\n",
      "w11:tensor([[-2.4254e+07],\n",
      "        [-4.3736e+06],\n",
      "        [ 7.0515e+08]], grad_fn=<SubBackward0>)\n",
      "nan\n",
      "w12:tensor([[-3.2332e+07],\n",
      "        [-5.8303e+06],\n",
      "        [ 9.4001e+08]], grad_fn=<SubBackward0>)\n",
      "nan\n",
      "w13:tensor([[-4.0410e+07],\n",
      "        [-7.2870e+06],\n",
      "        [ 1.1749e+09]], grad_fn=<SubBackward0>)\n",
      "nan\n",
      "w14:tensor([[-4.8488e+07],\n",
      "        [-8.7437e+06],\n",
      "        [ 1.4097e+09]], grad_fn=<SubBackward0>)\n",
      "nan\n",
      "w15:tensor([[-5.6566e+07],\n",
      "        [-1.0200e+07],\n",
      "        [ 1.6446e+09]], grad_fn=<SubBackward0>)\n"
     ]
    },
    {
     "data": {
      "image/png": "[encoded data removed]",
      "text/plain": [
       "<Figure size 640x480 with 1 Axes>"
      ]
     },
     "metadata": {},
     "output_type": "display_data"
    },
    {
     "name": "stdout",
     "output_type": "stream",
     "text": [
      "[1, 2, 3, 4, 5, 6, 7, 8, 9, 10, 11, 12, 13, 14, 15]\n",
      "[0.008664339780807495, 0.010731915943324566, 0.0025097269099205732, 0.0, nan, nan, nan, nan, nan, nan, nan, nan, nan, nan, nan]\n"
     ]
    }
   ],
   "source": [
    "train()"
   ]
  },
  {
   "cell_type": "code",
   "execution_count": null,
   "metadata": {},
   "outputs": [],
   "source": []
  }
 ],
 "metadata": {
  "kernelspec": {
   "display_name": "base",
   "language": "python",
   "name": "python3"
  },
  "language_info": {
   "codemirror_mode": {
    "name": "ipython",
    "version": 3
   },
   "file_extension": ".py",
   "mimetype": "text/x-python",
   "name": "python",
   "nbconvert_exporter": "python",
   "pygments_lexer": "ipython3",
   "version": "3.9.16"
  },
  "orig_nbformat": 4
 },
 "nbformat": 4,
 "nbformat_minor": 2
}
